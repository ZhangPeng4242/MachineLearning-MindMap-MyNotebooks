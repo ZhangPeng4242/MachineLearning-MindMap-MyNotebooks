{
 "cells": [
  {
   "cell_type": "markdown",
   "id": "0d39a9b3",
   "metadata": {},
   "source": [
    "# Intro\n",
    "- Ensemble model combines multiple individual models together and delivers superior prediction power.\n",
    "- The individual models are usually referred to as **weak learners.**\n",
    "\n",
    "\n",
    "**Variance:**\n",
    "- Voting\n",
    "- Bagging\n",
    "\n",
    "**Bias:**\n",
    "- Stacking\n",
    "- Boosing"
   ]
  },
  {
   "cell_type": "markdown",
   "id": "f923a8de",
   "metadata": {},
   "source": [
    "## Voting: \n",
    "**taking prediction of M models F1, … FM and having the classifiers “vote” on the final classification**\n",
    "\n",
    "Is most useful with similar or different algorithms?\n",
    "- Especially useful to combine different algorithms (heterogeneous learners)\n",
    "\n",
    "What improves & why compared to individual such learner: bias, variance, both?\n",
    "- In some cases might improve variance, bias, or both\n",
    "\n",
    "**Hard vote** – majority vote – what’s the class that most classifiers predicted\\\n",
    "**Soft vote** - class label as argmax of the sum of predicted probabilities"
   ]
  },
  {
   "cell_type": "markdown",
   "id": "73431fc6",
   "metadata": {},
   "source": [
    "## “Bagging” = Bootstrap AGGregatING\n",
    "**Idea: combine simple (high variance / overfitting) models trained on resampled data\n",
    "to reduce variance**\n",
    "\n",
    "𝐶 ∗ (𝑥) = 𝑚𝑒𝑎𝑛 (𝐶𝑖 (𝑥)) (for regression)\\\n",
    "𝐶 ∗ (𝑥) = 𝑚𝑎𝑗𝑜𝑟𝑖𝑡𝑦_𝑣𝑜𝑡𝑒 (𝐶𝑖 (𝑥)) (for classification)\n",
    "\n",
    "Bagging starts with **high-variance models** and then smooths their predictions"
   ]
  },
  {
   "cell_type": "code",
   "execution_count": null,
   "id": "af9aa22e",
   "metadata": {},
   "outputs": [],
   "source": [
    "from sklearn.ensemble import BaggingClassifier\n",
    "from sklearn.neighbors import KNeighborsClassifier\n",
    "bagging = BaggingClassifier(KNeighborsClassifier(), max_samples=0.5, max_features=0.5)"
   ]
  },
  {
   "cell_type": "markdown",
   "id": "66246ea1",
   "metadata": {},
   "source": [
    "## Stacking\n",
    "Stack of estimators with a final classifier.\n",
    "\n",
    "Stacked generalization consists in stacking the output of individual estimator and use a classifier to compute the final prediction. Stacking allows to use the strength of each individual estimator by using their output as input of a final estimator.\n",
    "\n",
    "**Stacking: using output of M models F1, … FM as features to train new model C**\n",
    "\n",
    "Is most useful with similar or different algorithms?\n",
    "- Especially useful to combine different algorithms (heterogeneous learners)\n",
    "\n",
    "What improves & why compared to individual such learner: bias, variance, both?\n",
    "- In some cases might improve bias, variance, or both\n",
    "\n",
    "Multi-level stacking: stacking the output of multiple meta-models which were themselves\n",
    "produced by stacking"
   ]
  },
  {
   "cell_type": "markdown",
   "id": "404f9af6",
   "metadata": {},
   "source": [
    "## Boosting: \n",
    "**multiple iterations of learning of predictors concentrating on fixing mistakes of previous iterations**\n",
    "\n",
    "Algorithm example:\n",
    "- Fit the first predictor on the whole dataset.\n",
    "- In each subsequent iteration, train a new predictor giving higher weight to observations that were misclassified by the previous model\n",
    "- Iterate n steps or until accuracy threshold is reached\n",
    "- Take last predictor, or some weighted voting of all predictors"
   ]
  },
  {
   "cell_type": "markdown",
   "id": "e28b71d3",
   "metadata": {},
   "source": [
    "Is most useful with similar or different algorithms?\n",
    "- Usually used with similar algorithms (homogeneous learners)\n",
    "\n",
    "Do we need excellent individual learners?\n",
    "- No, it’s too expensive, and we can get excellent results even with underfitting / high bias\n",
    "\n",
    "What improves & why compared to individual such learner: bias, variance, both?\n",
    "- Usually used to improve bias by iterative use of underfitting / high bias weak learners"
   ]
  }
 ],
 "metadata": {
  "kernelspec": {
   "display_name": "Python 3 (ipykernel)",
   "language": "python",
   "name": "python3"
  },
  "language_info": {
   "codemirror_mode": {
    "name": "ipython",
    "version": 3
   },
   "file_extension": ".py",
   "mimetype": "text/x-python",
   "name": "python",
   "nbconvert_exporter": "python",
   "pygments_lexer": "ipython3",
   "version": "3.9.7"
  },
  "toc": {
   "base_numbering": 1,
   "nav_menu": {},
   "number_sections": true,
   "sideBar": true,
   "skip_h1_title": false,
   "title_cell": "Table of Contents",
   "title_sidebar": "Contents",
   "toc_cell": false,
   "toc_position": {},
   "toc_section_display": true,
   "toc_window_display": false
  }
 },
 "nbformat": 4,
 "nbformat_minor": 5
}
