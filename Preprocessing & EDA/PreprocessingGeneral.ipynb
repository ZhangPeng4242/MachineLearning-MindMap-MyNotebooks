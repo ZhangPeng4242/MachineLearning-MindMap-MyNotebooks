{
 "cells": [
  {
   "cell_type": "markdown",
   "id": "4cd521f4",
   "metadata": {},
   "source": [
    "# Preprocessing\n",
    "\n",
    "\n",
    "## Main issues to consider while preprocessing data:\n",
    "\n",
    "**Check list: Follow the order**\n",
    "- 0. **Do after train_test split**, avoid data leakage!!! (Important)\n",
    "- 1. **Feature Selection**, do we need to drop any features?\n",
    "- 2. **Missing Values**, how to deal with them, drop/impute?\n",
    "- 3. **Outliers** (numeric, categorical), do we need to deal with them, if so, how?\n",
    "- 4. **Imbalanced Dataset** Features: Combine rare categories(reduce categories)?  Target: undersampling? oversampling?\n",
    "- 5. **Encoding Categorical data**: one-hot encode, label encode \n",
    "- 6. **Scaling Numerical data**, when to scale, and how to scale, standardized_scaling? min_max_scaling?\n",
    "- 7. **Feature Engineering??** Do we need to engineer some new features? e.g UTC to hours, mins, days of week, months features"
   ]
  }
 ],
 "metadata": {
  "kernelspec": {
   "display_name": "Python 3 (ipykernel)",
   "language": "python",
   "name": "python3"
  },
  "language_info": {
   "codemirror_mode": {
    "name": "ipython",
    "version": 3
   },
   "file_extension": ".py",
   "mimetype": "text/x-python",
   "name": "python",
   "nbconvert_exporter": "python",
   "pygments_lexer": "ipython3",
   "version": "3.9.7"
  },
  "toc": {
   "base_numbering": 1,
   "nav_menu": {},
   "number_sections": true,
   "sideBar": true,
   "skip_h1_title": false,
   "title_cell": "Table of Contents",
   "title_sidebar": "Contents",
   "toc_cell": false,
   "toc_position": {},
   "toc_section_display": true,
   "toc_window_display": false
  }
 },
 "nbformat": 4,
 "nbformat_minor": 5
}
